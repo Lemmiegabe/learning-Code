{
 "cells": [
  {
   "cell_type": "code",
   "execution_count": 29,
   "id": "61fc5714-ec41-4720-a302-12e273c5f1fb",
   "metadata": {},
   "outputs": [],
   "source": [
    "%matplotlib inline\n",
    "import matplotlib.pyplot as plt\n",
    "import numpy as np \n",
    "from numpy import linalg\n",
    "import scipy "
   ]
  },
  {
   "cell_type": "code",
   "execution_count": 30,
   "id": "598cecbc-8336-4d1e-b3ea-2d66664a1e0b",
   "metadata": {
    "tags": []
   },
   "outputs": [],
   "source": [
    "U = np.array([[-5, 2, 0, -2, -3],\n",
    "              [0, 1, 0, -5, 4],\n",
    "              [0, 0, 1,-1, 1],\n",
    "              [0, 0, 0, 4, -2],\n",
    "              [0, 0, 0, 0, 4]], int)\n",
    "\n",
    "L = np.array([[1,0,0,0,0],\n",
    "              [3,1,0,0,0],\n",
    "              [0,2,1,0,0],\n",
    "              [2,2,-4,1,0],\n",
    "              [5,-4,-3,-2,1]], int)\n",
    "\n",
    "b = np.array([2,-3,-3,2,3], int)\n",
    "\n",
    "A=np.dot(L,U)\n",
    "\n",
    "n=5"
   ]
  },
  {
   "cell_type": "code",
   "execution_count": 31,
   "id": "da3ff273-b336-4e33-9865-83a0a4205ec5",
   "metadata": {},
   "outputs": [
    {
     "name": "stdout",
     "output_type": "stream",
     "text": [
      "[[ -5   2   0  -2  -3]\n",
      " [-15   7   0 -11  -5]\n",
      " [  0   2   1 -11   9]\n",
      " [-10   6  -4  -6  -4]\n",
      " [-25   6  -3   5 -26]]\n",
      "[[-1.01500000e+01  4.10000000e+00 -2.25000000e+00 -3.00000000e-01\n",
      "  -3.50000000e-01]\n",
      " [ 1.06250000e+01 -3.25000000e+00  8.75000000e-01  5.00000000e-01\n",
      "  -3.75000000e-01]\n",
      " [ 5.87500000e+00 -1.75000000e+00  6.25000000e-01 -2.99760217e-16\n",
      "  -1.25000000e-01]\n",
      " [ 1.41250000e+01 -5.25000000e+00  2.37500000e+00  5.00000000e-01\n",
      "   1.25000000e-01]\n",
      " [ 1.42500000e+01 -5.50000000e+00  2.75000000e+00  5.00000000e-01\n",
      "   2.50000000e-01]]\n"
     ]
    }
   ],
   "source": [
    "print(A)\n",
    "Ainv = linalg.inv(A) #inverse element \n",
    "print(Ainv)"
   ]
  },
  {
   "cell_type": "code",
   "execution_count": 7,
   "id": "8dbc8a14-375b-41c2-9750-0a60e503d7f7",
   "metadata": {},
   "outputs": [
    {
     "name": "stdout",
     "output_type": "stream",
     "text": [
      "[-27.5   28.25  14.75  38.25  38.5 ]\n"
     ]
    }
   ],
   "source": [
    "x = linalg.solve(A,b).reshape(n) #how does this even work?\n",
    "print(x)"
   ]
  },
  {
   "cell_type": "code",
   "execution_count": 26,
   "id": "1ae186b5-0491-45f4-ab40-2d24bfb01930",
   "metadata": {},
   "outputs": [
    {
     "name": "stdout",
     "output_type": "stream",
     "text": [
      "[-27.5   28.25  14.75  38.25  38.5 ]\n"
     ]
    }
   ],
   "source": [
    "from numpy import zeros, array, dot, empty \n",
    "#Gaussian elimination\n",
    "U = array([[-5,2,0,-2,-3],\n",
    "           [0,1,0,-5,4],\n",
    "           [0,0,1,-1,1],\n",
    "           [0,0,0,4,-2],\n",
    "           [0,0,0,0,4]],float)\n",
    "\n",
    "L = array([[1,0,0,0,0],\n",
    "          [3,1,0,0,0],\n",
    "          [0,2,1,0,0],\n",
    "          [2,2,-4,1,0],\n",
    "          [5,-4,-3,-2,1]],float)\n",
    "b= array([2,-3,-3,2,3],float)\n",
    "N = len(b)\n",
    "A =dot(L,U) \n",
    "\n",
    "for m in range(N):\n",
    "   \n",
    "    #Divide by the diagonal element \n",
    "    div = A[m,m]\n",
    "    A[m,:] /= div # rows elements  \n",
    "    b[m]/= div \n",
    "    #Now subtract from the lower rows\n",
    "    for i in range(m+1, N):\n",
    "        mult = A[i,m]\n",
    "        A[i,:] -= mult*A[m,:]\n",
    "        b[i] -= mult*b[m]\n",
    "        print\n",
    "x = empty(N,float)\n",
    "for m in range(N-1,-1,-1):\n",
    "    x[m] = b[m]\n",
    "    for i in range(m+1, N):\n",
    "        x[m] -= A[m,i]*x[i]\n",
    "        \n",
    "print(x) \n",
    "        \n"
   ]
  },
  {
   "cell_type": "code",
   "execution_count": 81,
   "id": "eeaefc2e-f226-4926-9336-cc8d48ea8db3",
   "metadata": {},
   "outputs": [
    {
     "name": "stdout",
     "output_type": "stream",
     "text": [
      "[[ -0.2         -0.04878049  -0.           0.4          0.6       ]\n",
      " [  0.43902439   0.12195122   0.          -1.48780488  -0.82926829]\n",
      " [ -0.10707912   0.21415824   1.         -10.63712076   9.20226056]\n",
      " [  2.           0.73170732  -4.          -6.          -4.        ]\n",
      " [  5.           0.73170732  -3.           5.         -26.        ]]\n"
     ]
    }
   ],
   "source": [
    "U = array([[-5,2,0,-2,-3],\n",
    "           [0,1,0,-5,4],\n",
    "           [0,0,1,-1,1],\n",
    "           [0,0,0,4,-2],\n",
    "           [0,0,0,0,4]],float)\n",
    "\n",
    "L = array([[1,0,0,0,0],\n",
    "           [3,1,0,0,0],\n",
    "           [0,2,1,0,0],\n",
    "           [2,2,-4,1,0],\n",
    "           [5,-4,-3,-2,1]],float)\n",
    "A=dot(L,U)\n",
    "\n",
    "I = array([[1,0,0,0,0],\n",
    "           [0,1,0,0,0],\n",
    "           [0,0,1,0,0],\n",
    "           [0,0,0,1,0],\n",
    "           [0,0,0,0,1]],float)\n",
    "# gaussian elimation  \n",
    "for m in range(N):\n",
    "    \n",
    "    div = A[m,m]  \n",
    "    A[m,:]/= div  \n",
    "    A[:,m]/= div\n",
    "    \n",
    "# Now subtract from the lower rows\n",
    "    for i in range(m+1, N):\n",
    "        mult = A[i,m]\n",
    "        A[i,:] -= mult*A[m,:]\n",
    "        b[i] -= mult*b[m]\n",
    "x = empty(N,float)\n",
    "for m in range(N-1,-1,-1):\n",
    "    x[m] = b[m]\n",
    "    for i in range(m+1, N):\n",
    "        x[m] -= A[m,i]*x[i]\n",
    " \n",
    " \n",
    "        \n",
    "print(A)"
   ]
  },
  {
   "cell_type": "code",
   "execution_count": 87,
   "id": "db303930-f92c-45e6-be44-7335b57f087a",
   "metadata": {},
   "outputs": [
    {
     "name": "stdout",
     "output_type": "stream",
     "text": [
      "[1. 2. 3.]\n",
      "[1. 2. 3.]\n",
      "[1. 2. 3.]\n"
     ]
    }
   ],
   "source": [
    "#test sample \n",
    "\n",
    "from numpy import array \n",
    "A = array([[1,2,3],\n",
    "           [2,3,1],\n",
    "           [3,2,1]],float)\n",
    "N = len(A)\n",
    "for m in range(N):\n",
    "    \n",
    "    A = array([[1,2,3],\n",
    "               [2,3,1],\n",
    "               [3,2,1]],float)\n",
    "    I = array([[1,0,0],\n",
    "               [0,1,0],\n",
    "               [0,0,1]],float)\n",
    "\n",
    "    print(A[0,:]) \n",
    "\n",
    "    "
   ]
  },
  {
   "cell_type": "code",
   "execution_count": 88,
   "id": "af981ddb-e3a5-47f8-bc27-2f66fe1c346c",
   "metadata": {},
   "outputs": [
    {
     "name": "stdout",
     "output_type": "stream",
     "text": [
      "2.0\n",
      "3.0\n",
      "-4.0\n"
     ]
    }
   ],
   "source": [
    "for m in range(N):\n",
    "   \n",
    "    #Divide by the diagonal element \n",
    "    div = A[m,m]\n",
    "    A[m,:] /= div # rows elements  \n",
    "    b[m]/= div \n",
    "    #Now subtract from the lower rows\n",
    "    for i in range(m+1, N):\n",
    "        mult = A[i,m]\n",
    "        A[i,:] -= mult*A[m,:]\n",
    "        b[i] -= mult*b[m]\n",
    "        print(mult)"
   ]
  },
  {
   "cell_type": "code",
   "execution_count": null,
   "id": "4c2a6951-9a85-4d34-990c-44ca191a6390",
   "metadata": {},
   "outputs": [],
   "source": []
  }
 ],
 "metadata": {
  "kernelspec": {
   "display_name": "Python 3",
   "language": "python",
   "name": "python3"
  },
  "language_info": {
   "codemirror_mode": {
    "name": "ipython",
    "version": 3
   },
   "file_extension": ".py",
   "mimetype": "text/x-python",
   "name": "python",
   "nbconvert_exporter": "python",
   "pygments_lexer": "ipython3",
   "version": "3.8.8"
  }
 },
 "nbformat": 4,
 "nbformat_minor": 5
}
