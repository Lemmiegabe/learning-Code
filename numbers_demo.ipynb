{
 "cells": [
  {
   "cell_type": "markdown",
   "metadata": {},
   "source": [
    "# Number Representations"
   ]
  },
  {
   "cell_type": "markdown",
   "metadata": {},
   "source": [
    "Memory architecture is the source of round-off errors as well as the storage limits of different variable types.  In this notebook we demonstrate these concepts for integers and floats."
   ]
  },
  {
   "cell_type": "markdown",
   "metadata": {},
   "source": [
    "## Representation of integer numbers"
   ]
  },
  {
   "cell_type": "markdown",
   "metadata": {},
   "source": [
    "Here I show some examples of how integers are represented in computers.\n",
    "\n",
    "The simplest examples are unsigned 8-bit integers. I will define a NumPy quantity of this type, and then show the bits that express it."
   ]
  },
  {
   "cell_type": "code",
   "execution_count": 3,
   "metadata": {},
   "outputs": [
    {
     "name": "stdout",
     "output_type": "stream",
     "text": [
      "1  decimal ->  00000001\n",
      "3  decimal ->  00000011\n",
      "8  decimal ->  00001000\n",
      "95  decimal ->  01011111\n",
      "255  decimal ->  11111111\n"
     ]
    }
   ],
   "source": [
    "import numpy as np\n",
    "for value in [1, 3, 8, 95, 255]:\n",
    "    print(value,' decimal -> ',np.binary_repr(value,width=8))"
   ]
  },
  {
   "cell_type": "markdown",
   "metadata": {},
   "source": [
    "What happens if you increment past 255 for an unsigned 8-bit integer?"
   ]
  },
  {
   "cell_type": "code",
   "execution_count": 4,
   "metadata": {},
   "outputs": [
    {
     "name": "stdout",
     "output_type": "stream",
     "text": [
      "250  decimal ->  11111010\n",
      "251  decimal ->  11111011\n",
      "252  decimal ->  11111100\n",
      "253  decimal ->  11111101\n",
      "254  decimal ->  11111110\n",
      "255  decimal ->  11111111\n",
      "0  decimal ->  00000000\n",
      "1  decimal ->  00000001\n",
      "2  decimal ->  00000010\n",
      "3  decimal ->  00000011\n"
     ]
    },
    {
     "name": "stderr",
     "output_type": "stream",
     "text": [
      "<ipython-input-4-caa0b465e176>:4: RuntimeWarning: overflow encountered in ubyte_scalars\n",
      "  value = value+np.uint8(1)\n"
     ]
    }
   ],
   "source": [
    "value=np.uint8(250)\n",
    "for i in np.arange(10):\n",
    "    print(value,' decimal -> ',np.binary_repr(value,width=8))\n",
    "    value = value+np.uint8(1)"
   ]
  },
  {
   "cell_type": "markdown",
   "metadata": {},
   "source": [
    "It is important to remember that the integers have a limited range when expressed this way (though it is a much larger range for 32- or 64-bit integers)! In Python, a warning is issued when this happens, but this does not happen in all computing environments.\n",
    "\n",
    "For a signed integer, the upper half of the range is remapped to the negative numbers."
   ]
  },
  {
   "cell_type": "code",
   "execution_count": 5,
   "metadata": {},
   "outputs": [
    {
     "name": "stdout",
     "output_type": "stream",
     "text": [
      "-128  decimal ->  10000000\n",
      "-127  decimal ->  10000001\n",
      "-2  decimal ->  11111110\n",
      "-1  decimal ->  11111111\n",
      "0  decimal ->  00000000\n",
      "1  decimal ->  00000001\n",
      "127  decimal ->  01111111\n"
     ]
    }
   ],
   "source": [
    "for value in [-128, -127, -2, -1, 0, 1, 127]:\n",
    "    print(value,' decimal -> ',np.binary_repr(value,width=8))"
   ]
  },
  {
   "cell_type": "markdown",
   "metadata": {},
   "source": [
    "What happens if you increment past 127 for a signed 8-bit integer?"
   ]
  },
  {
   "cell_type": "code",
   "execution_count": 6,
   "metadata": {},
   "outputs": [
    {
     "name": "stdout",
     "output_type": "stream",
     "text": [
      "124  decimal ->  01111100\n",
      "125  decimal ->  01111101\n",
      "126  decimal ->  01111110\n",
      "127  decimal ->  01111111\n",
      "-128  decimal ->  10000000\n",
      "-127  decimal ->  10000001\n",
      "-126  decimal ->  10000010\n",
      "-125  decimal ->  10000011\n",
      "-124  decimal ->  10000100\n",
      "-123  decimal ->  10000101\n"
     ]
    },
    {
     "name": "stderr",
     "output_type": "stream",
     "text": [
      "<ipython-input-6-06d42b9a0186>:4: RuntimeWarning: overflow encountered in byte_scalars\n",
      "  value = value+np.int8(1)\n"
     ]
    }
   ],
   "source": [
    "value=np.int8(124)\n",
    "for i in np.arange(10):\n",
    "    print(value,' decimal -> ',np.binary_repr(value,width=8))\n",
    "    value = value+np.int8(1)"
   ]
  },
  {
   "cell_type": "markdown",
   "metadata": {},
   "source": [
    "In Python 3, the default integer value is 64 bits.  For Python 2 the default integer value was 32 bits, which covered most (but not all!) cases of interest. Its maximum value in the signed case was $2^{32-1}-1=2147483647$, which is just over 2 billion. Astronomers and physicists can encounter catalogs with billions of entries, so 64-bit integers are sometimes necessary. Here are some examples for 32-bit signed integers."
   ]
  },
  {
   "cell_type": "code",
   "execution_count": 7,
   "metadata": {},
   "outputs": [
    {
     "name": "stdout",
     "output_type": "stream",
     "text": [
      "-73654836  decimal ->  11111011100111000001110111001100\n",
      "-3  decimal ->  11111111111111111111111111111101\n",
      "1  decimal ->  00000000000000000000000000000001\n",
      "850466  decimal ->  00000000000011001111101000100010\n"
     ]
    }
   ],
   "source": [
    "for value in [-73654836, -3, 1, 850466]:\n",
    "    print(value,' decimal -> ',np.binary_repr(value,width=32))"
   ]
  },
  {
   "cell_type": "markdown",
   "metadata": {},
   "source": [
    "We do not show 64-bit examples just because the binary representations would take up too much space."
   ]
  },
  {
   "cell_type": "markdown",
   "metadata": {},
   "source": [
    "## Representation of floating point numbers"
   ]
  },
  {
   "cell_type": "markdown",
   "metadata": {},
   "source": [
    "To find the binary representation of 32-bit floating point numbers, I have to define a function."
   ]
  },
  {
   "cell_type": "code",
   "execution_count": 8,
   "metadata": {},
   "outputs": [],
   "source": [
    "import struct\n",
    "def binary32(num):\n",
    "    return ''.join(bin(c).replace('0b', '').rjust(8, '0') for c in struct.pack('!f', num))"
   ]
  },
  {
   "cell_type": "code",
   "execution_count": 11,
   "metadata": {},
   "outputs": [
    {
     "name": "stdout",
     "output_type": "stream",
     "text": [
      "0.0 decimal ->\n",
      "       sign = 0 \n",
      "       exponent = 00000000 \n",
      "       mantissa = 00000000000000000000000\n",
      "1.0 decimal ->\n",
      "       sign = 0 \n",
      "       exponent = 01111111 \n",
      "       mantissa = 00000000000000000000000\n",
      "1.5 decimal ->\n",
      "       sign = 0 \n",
      "       exponent = 01111111 \n",
      "       mantissa = 10000000000000000000000\n",
      "2.0 decimal ->\n",
      "       sign = 0 \n",
      "       exponent = 10000000 \n",
      "       mantissa = 00000000000000000000000\n",
      "5000.0 decimal ->\n",
      "       sign = 0 \n",
      "       exponent = 10001011 \n",
      "       mantissa = 00111000100000000000000\n",
      "-5000.0 decimal ->\n",
      "       sign = 1 \n",
      "       exponent = 10001011 \n",
      "       mantissa = 00111000100000000000000\n",
      "1.4e-45 decimal ->\n",
      "       sign = 0 \n",
      "       exponent = 00000000 \n",
      "       mantissa = 00000000000000000000001\n",
      "3.40055e+38 decimal ->\n",
      "       sign = 0 \n",
      "       exponent = 11111110 \n",
      "       mantissa = 11111111101010000110110\n",
      "1e+100 decimal ->\n",
      "       sign = 0 \n",
      "       exponent = 11111111 \n",
      "       mantissa = 00000000000000000000000\n",
      "1e-56 decimal ->\n",
      "       sign = 0 \n",
      "       exponent = 00000000 \n",
      "       mantissa = 00000000000000000000000\n"
     ]
    }
   ],
   "source": [
    "for value in [0., 1., 1.5, 2., 5000., - 5000., 1.4e-45, 3.40055e+38, 1.e+100, 1.e-56]:\n",
    "    bitlist=binary32(np.float32(value))\n",
    "    sign = bitlist[0]\n",
    "    exponent = bitlist[1:9]\n",
    "    mantissa = bitlist[9:32]\n",
    "    template = \"\"\"{value} decimal ->\n",
    "       sign = {sign} \n",
    "       exponent = {exponent} \n",
    "       mantissa = {mantissa}\"\"\"\n",
    "    print(template.format(value=value, sign=sign, exponent=exponent, mantissa=mantissa))"
   ]
  },
  {
   "cell_type": "markdown",
   "metadata": {},
   "source": [
    "Note that the last two are an overflow and an underflow, respectively. Now we demonstrate what happens when adding two numbers that differ by a large dynamic range."
   ]
  },
  {
   "cell_type": "code",
   "execution_count": 10,
   "metadata": {},
   "outputs": [
    {
     "name": "stdout",
     "output_type": "stream",
     "text": [
      "Exponent of 1.0: 01111111 --> 0\n",
      "Mantissa of 1.0: 00000000000000000000000\n",
      "Exponent of 9.99999993922529e-09: 01100100 --> -27\n",
      "Mantissa of 9.99999993922529e-09: 01010111100110001110111\n"
     ]
    }
   ],
   "source": [
    "value_big = np.float32(1.)\n",
    "value_small = np.float32(1.e-8)\n",
    "bitlist = binary32(np.float32(value_big))\n",
    "e10 = np.array([ np.int(ee) * 2**(7-indx) for indx, ee in zip(range(8), bitlist[1:9])], dtype=np.int32).sum() - 127\n",
    "print(\"Exponent of {value}: {exponent} --> {e10}\".format(value=value_big, exponent=bitlist[1:9], e10=e10))\n",
    "print(\"Mantissa of {value}: {mantissa}\".format(value=value_big, mantissa=bitlist[9:]))\n",
    "bitlist = binary32(np.float32(value_small))\n",
    "e10 = np.array([ np.int(ee) * 2**(7-indx) for indx, ee in zip(range(8), bitlist[1:9])], dtype=np.int32).sum() - 127\n",
    "print(\"Exponent of {value}: {exponent} --> {e10}\".format(value=value_small, exponent=bitlist[1:9], e10=e10))\n",
    "print(\"Mantissa of {value}: {mantissa}\".format(value=value_small, mantissa=bitlist[9:]))"
   ]
  },
  {
   "cell_type": "markdown",
   "metadata": {},
   "source": [
    "In order to add these two numbers, the computer needs to make the exponents the same.  To do that, it must shift the digits in the lower number's mantissa to the right.\n",
    "\n",
    "The number $10^{-8}$, originally expressed as:\n",
    "- exponent 01100100 -> (-27)\n",
    "- mantissa 01010111100110001110111\n",
    "\n",
    "becomes after one shift\n",
    "- exponent 01100101 -> (-26)\n",
    "- mantissa 00101011110011000111011\n",
    "\n",
    "Raising the exponent by 1 makes all the numbers in the mantissa shift to the right.  Note that just shifting the bits doesn't keep the value equal to $10^{-8}$ because of the \"1+\" in the mantissa.  However, the adding operation keeps track of how many shifts are performed to correct for this.\n",
    "\n",
    "The main point is that this is a lower precision way to express $10^{-8}$ because you have lost the last bit which has a value of $2^{-23}\\sim 10^{-7}$.  Thus you always lose some precision when shifting bits to add numbers.\n",
    "\n",
    "In this case, it's really a problem because $10^{-8}<2^{-23}$.  Another way of saying it is that to add $10^{-8}$ to 1, you have to shift the bits 27 times to match the exponents.  After shifting 23 times, the mantissa becomes zero.  Then adding the mantissas results in no change."
   ]
  },
  {
   "cell_type": "code",
   "execution_count": 12,
   "metadata": {},
   "outputs": [
    {
     "name": "stdout",
     "output_type": "stream",
     "text": [
      "Exponent of 1.0: 01111111 --> 0\n",
      "Mantissa of 1.0: 00000000000000000000000\n"
     ]
    }
   ],
   "source": [
    "value = value_big + value_small# add 1 and 1.e-8\n",
    "bitlist = binary32(np.float32(value))\n",
    "e10 = np.array([ np.int(ee) * 2**(7-indx) for indx, ee in zip(range(8), bitlist[1:9])], dtype=np.int32).sum() - 127\n",
    "print(\"Exponent of {value}: {exponent} --> {e10}\".format(value=value_big, exponent=bitlist[1:9], e10=e10))\n",
    "print(\"Mantissa of {value}: {mantissa}\".format(value=value_big, mantissa=bitlist[9:]))"
   ]
  },
  {
   "cell_type": "markdown",
   "metadata": {},
   "source": [
    "This error, called round-off error, is a consideration in building stable algorithms.  For example, this can be a serious issue when adding lots of small numbers."
   ]
  },
  {
   "cell_type": "code",
   "execution_count": 13,
   "metadata": {},
   "outputs": [
    {
     "name": "stdout",
     "output_type": "stream",
     "text": [
      "0.25\n"
     ]
    }
   ],
   "source": [
    "# Here is a dumb way to add up a bunch of numbers that are supposed to add to unity.\n",
    "f = np.float32(0.)\n",
    "incr = np.float32(1.e-8)\n",
    "for i in np.arange(100000000):\n",
    "    f = f + incr\n",
    "print(f)"
   ]
  },
  {
   "cell_type": "code",
   "execution_count": 14,
   "metadata": {},
   "outputs": [
    {
     "name": "stdout",
     "output_type": "stream",
     "text": [
      "1.0000000022898672\n"
     ]
    }
   ],
   "source": [
    "# This is just as dumb but because the values have 64-bit precision it works out OK.\n",
    "f = np.float64(0.)\n",
    "incr = np.float64(1.e-8)\n",
    "for i in np.arange(100000000):\n",
    "    f = f + incr\n",
    "print(f)"
   ]
  },
  {
   "cell_type": "code",
   "execution_count": 15,
   "metadata": {},
   "outputs": [
    {
     "name": "stdout",
     "output_type": "stream",
     "text": [
      "-0.00011271238327026367\n",
      "-2.000621890374532e-13\n"
     ]
    }
   ],
   "source": [
    "# Note that NumPy must do something smarter with its array method sum()!\n",
    "incrs = np.ones(100000000, dtype=np.float32) * np.float32(1.e-8)\n",
    "print(incrs.sum() - 1.)\n",
    "\n",
    "incrs = np.ones(100000000, dtype=np.float64) * np.float64(1.e-8)\n",
    "print(incrs.sum() - 1.)"
   ]
  }
 ],
 "metadata": {
  "anaconda-cloud": {},
  "kernelspec": {
   "display_name": "Python 3",
   "language": "python",
   "name": "python3"
  },
  "language_info": {
   "codemirror_mode": {
    "name": "ipython",
    "version": 3
   },
   "file_extension": ".py",
   "mimetype": "text/x-python",
   "name": "python",
   "nbconvert_exporter": "python",
   "pygments_lexer": "ipython3",
   "version": "3.8.3"
  }
 },
 "nbformat": 4,
 "nbformat_minor": 1
}
