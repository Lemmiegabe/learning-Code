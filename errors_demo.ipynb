{
 "cells": [
  {
   "cell_type": "code",
   "execution_count": null,
   "metadata": {},
   "outputs": [],
   "source": [
    "%matplotlib inline\n",
    "import numpy as np\n",
    "import matplotlib.pyplot as plt"
   ]
  },
  {
   "cell_type": "markdown",
   "metadata": {},
   "source": [
    "# Distribution of round-off errors"
   ]
  },
  {
   "cell_type": "markdown",
   "metadata": {},
   "source": [
    "One way to get a sense of round-off errors is take a bunch of random numbers at high precision and store them at lower precision, e.g. take 64-bit floats and store as 32-bit floats.  We then make a histogram of the differences.  Obviously, random numbers generated as 64-bit floats will have round-off errors too, but they will be much smaller than the 32-bit errors so we can neglect them."
   ]
  },
  {
   "cell_type": "code",
   "execution_count": null,
   "metadata": {},
   "outputs": [],
   "source": [
    "values_64 = np.random.random(size=100000)\n",
    "values_32 = np.float32(values_64)\n",
    "diff = np.float64(values_32) - values_64"
   ]
  },
  {
   "cell_type": "code",
   "execution_count": null,
   "metadata": {},
   "outputs": [],
   "source": [
    "hist = plt.hist(diff*1.e8, bins=100)\n",
    "plt.xlabel(r'$(x_{32}-x_{64})/10^{-8}$',fontsize=15)"
   ]
  },
  {
   "cell_type": "markdown",
   "metadata": {},
   "source": [
    "We also see that as the absolute errors are larger for large values, while the percentage errors are roughly the same."
   ]
  },
  {
   "cell_type": "code",
   "execution_count": null,
   "metadata": {},
   "outputs": [],
   "source": [
    "plt.plot(values_64, diff*1.e8, ',')\n",
    "plt.xlabel(r'$x_{64}$',fontsize=15)\n",
    "plt.ylabel(r'$(x_{32}-x_{64})/10^{-8}$',fontsize=15)"
   ]
  },
  {
   "cell_type": "code",
   "execution_count": null,
   "metadata": {},
   "outputs": [],
   "source": [
    "plt.plot(values_64, diff/values_64*1e8, ',')\n",
    "plt.xlabel(r'$x_{64}$',fontsize=15)\n",
    "plt.ylabel(r'$(x_{32}-x_{64})/x_{64}/10^{-8}$',fontsize=15)"
   ]
  },
  {
   "cell_type": "markdown",
   "metadata": {},
   "source": [
    "# Round-off vs. Approximation Errors"
   ]
  },
  {
   "cell_type": "markdown",
   "metadata": {},
   "source": [
    "We test the simple algorithm for integrating $$\\int_0^1 dx\\,(x-x^2+x^3)$$ where the indefinite integral is given in the notes.  First we define subroutines for the function and its analytical formula for the definite integral."
   ]
  },
  {
   "cell_type": "code",
   "execution_count": null,
   "metadata": {},
   "outputs": [],
   "source": [
    "def fnc(x=None):\n",
    "    return (x - x**2 + x**3)"
   ]
  },
  {
   "cell_type": "code",
   "execution_count": null,
   "metadata": {},
   "outputs": [],
   "source": [
    "def fnc_int(limits=None):\n",
    "    return ((limits[1]**2 - limits[0]**2) / 2. - \n",
    "            (limits[1]**3 - limits[0]**3) / 3. + \n",
    "            (limits[1]**4 - limits[0]**4) / 4.)"
   ]
  },
  {
   "cell_type": "markdown",
   "metadata": {},
   "source": [
    "Now we define the integrating algorithm"
   ]
  },
  {
   "cell_type": "code",
   "execution_count": null,
   "metadata": {},
   "outputs": [],
   "source": [
    "def integrate_fnc(limits=None, nstep=None, fnc=None, dtype=None):\n",
    "    instep = 1. / np.float64(nstep).astype(dtype)\n",
    "    step = (limits[1] - limits[0]) * instep # define the step size\n",
    "    middles = limits[0] + (np.arange(nstep, dtype=dtype) + 0.5) * instep * (limits[1] - limits[0]) # set the interval x values\n",
    "    values = fnc(middles)\n",
    "    return (values.sum() * step) # add the terms"
   ]
  },
  {
   "cell_type": "markdown",
   "metadata": {},
   "source": [
    "and a subroutine to do the testing.  This will produce the error as a function of the number of steps."
   ]
  },
  {
   "cell_type": "code",
   "execution_count": null,
   "metadata": {},
   "outputs": [],
   "source": [
    "def test_integrate(dtype=None):\n",
    "    # produces a tuple with the number of steps along with the error for each number of steps\n",
    "    limits = np.array([0., 1.], dtype=dtype)\n",
    "    nstep_low = 10\n",
    "    nstep_high = 100000000\n",
    "    nnsteps = 50\n",
    "    nsteps = 10.**(np.log10(nstep_low) +\n",
    "                   (np.log10(nstep_high) - np.log10(nstep_low)) * np.arange(nnsteps) /\n",
    "                   np.float64(nnsteps - 1)) # set the sampled Nsteps\n",
    "    nsteps = np.int64(nsteps)\n",
    "    error = np.zeros(nnsteps, dtype=np.float64)\n",
    "    for indx in np.arange(nnsteps):\n",
    "        integral = fnc_int(limits=np.float64(limits)) # compute the analytical result\n",
    "        approx = integrate_fnc(limits=limits, nstep=nsteps[indx], fnc=fnc, dtype=dtype) # compute the approx result\n",
    "        error[indx] = (approx - integral) / integral # compute the error\n",
    "    return(nsteps, error)"
   ]
  },
  {
   "cell_type": "markdown",
   "metadata": {},
   "source": [
    "Here are the results."
   ]
  },
  {
   "cell_type": "code",
   "execution_count": null,
   "metadata": {},
   "outputs": [],
   "source": [
    "(nsteps64, error64) = test_integrate(dtype=np.float64)\n",
    "(nsteps32, error32) = test_integrate(dtype=np.float32)"
   ]
  },
  {
   "cell_type": "code",
   "execution_count": null,
   "metadata": {},
   "outputs": [],
   "source": [
    "plt.plot(np.log10(nsteps64), np.log10(np.abs(error64)))\n",
    "plt.plot(np.log10(nsteps32), np.log10(np.abs(error32)))\n",
    "plt.ylabel('log$_{10}$ |$\\epsilon$ / F|')\n",
    "plt.xlabel('log$_{10}$ N$_{steps}$')"
   ]
  },
  {
   "cell_type": "markdown",
   "metadata": {},
   "source": [
    "# Another Example: Powers of the Golden Ratio"
   ]
  },
  {
   "cell_type": "markdown",
   "metadata": {},
   "source": [
    "The Golden Ratio $\\phi=(\\sqrt{5}-1)/2=0.618$ obeys the recursion relation $\\phi^{n+1}=\\phi^{n-1}-\\phi^n$.  Here we demonstrate its instability."
   ]
  },
  {
   "cell_type": "code",
   "execution_count": null,
   "metadata": {},
   "outputs": [],
   "source": [
    "def golden_recurs(N=None,dtype=None):\n",
    "    #uses the recursion relation\n",
    "    phi=np.zeros(N+1,dtype=dtype)\n",
    "    phi[0]=1.\n",
    "    phi[1]=(np.sqrt(5,dtype=dtype)-1.)/2.\n",
    "    for i in np.arange(2,N+1):\n",
    "        phi[i]=phi[i-2]-phi[i-1]\n",
    "    phi=phi[2:]\n",
    "    return phi"
   ]
  },
  {
   "cell_type": "code",
   "execution_count": null,
   "metadata": {},
   "outputs": [],
   "source": [
    "def golden_multiply(N=None,dtype=None):\n",
    "    #computes it directly\n",
    "    phi=np.zeros(N+1,dtype=dtype)\n",
    "    phi[0]=1.\n",
    "    phi[1]=(np.sqrt(5,dtype=dtype)-1.)/2.\n",
    "    for i in np.arange(2,N+1):\n",
    "        phi[i]=phi[i-1]*phi[1]\n",
    "    phi=phi[2:]\n",
    "    return phi"
   ]
  },
  {
   "cell_type": "code",
   "execution_count": null,
   "metadata": {},
   "outputs": [],
   "source": [
    "def test_golden(dtype=None):\n",
    "    #computes error\n",
    "    Nmax=30\n",
    "    phi=golden_recurs(N=Nmax,dtype=dtype)\n",
    "    phi0=golden_multiply(N=Nmax,dtype=np.float64)\n",
    "    N=np.arange(2,Nmax+1)\n",
    "    error=(phi-phi0)/phi0\n",
    "    return (N,error)"
   ]
  },
  {
   "cell_type": "markdown",
   "metadata": {},
   "source": [
    "Here are the results."
   ]
  },
  {
   "cell_type": "code",
   "execution_count": null,
   "metadata": {},
   "outputs": [],
   "source": [
    "(N32,error32)=test_golden(dtype=np.float32)\n",
    "(N64,error64)=test_golden(dtype=np.float64)"
   ]
  },
  {
   "cell_type": "code",
   "execution_count": null,
   "metadata": {},
   "outputs": [],
   "source": [
    "print(error64)"
   ]
  },
  {
   "cell_type": "code",
   "execution_count": null,
   "metadata": {},
   "outputs": [],
   "source": [
    "plt.plot(N64, np.log10(np.abs(error64)))\n",
    "plt.plot(N32, np.log10(np.abs(error32)))\n",
    "plt.ylabel('log$_{10}$ |$\\epsilon$ / F|')\n",
    "plt.xlabel('N')"
   ]
  },
  {
   "cell_type": "markdown",
   "metadata": {},
   "source": [
    "Another way to test the stabilty of the forward recursion is to observe the difference between starting with $\\phi_0=1$ and $\\phi_1=0$ vs.~$\\phi_0=0$ and $\\phi_1=1$."
   ]
  },
  {
   "cell_type": "code",
   "execution_count": null,
   "metadata": {},
   "outputs": [],
   "source": [
    "def golden_recurs2(N=None,phi0=None,phi1=None,dtype=None):\n",
    "    #uses the recursion relation\n",
    "    phi=np.zeros(N+1,dtype=dtype)\n",
    "    phi[0]=phi0\n",
    "    phi[1]=phi1\n",
    "    for i in np.arange(2,N+1):\n",
    "        phi[i]=phi[i-2]-phi[i-1]\n",
    "    phi=phi[2:]\n",
    "    return phi"
   ]
  },
  {
   "cell_type": "code",
   "execution_count": null,
   "metadata": {},
   "outputs": [],
   "source": [
    "def test_golden2(dtype=None):\n",
    "    #computes error\n",
    "    Nmax=30\n",
    "    phi01=golden_recurs2(N=Nmax,phi0=0.,phi1=1.,dtype=dtype)\n",
    "    phi10=golden_recurs2(N=Nmax,phi0=1.,phi1=0.,dtype=dtype)\n",
    "    N=np.arange(2,Nmax+1)\n",
    "    error=abs(phi01-phi10)\n",
    "    return (N,error)"
   ]
  },
  {
   "cell_type": "code",
   "execution_count": null,
   "metadata": {},
   "outputs": [],
   "source": [
    "N,phidiff=test_golden2(dtype=np.float64)\n",
    "plt.plot(N, np.log10(phidiff))\n",
    "#plt.plot(N32, np.log10(np.abs(error32)))\n",
    "plt.ylabel('log$_{10}$ |$\\Delta\\phi$|')\n",
    "plt.xlabel('N')"
   ]
  },
  {
   "cell_type": "markdown",
   "metadata": {},
   "source": [
    "The rapid increase of the difference between the two recursions shows it is unstable."
   ]
  },
  {
   "cell_type": "markdown",
   "metadata": {},
   "source": [
    "Here we demonstrate Miller's algorithm as a solution to this problem."
   ]
  },
  {
   "cell_type": "code",
   "execution_count": null,
   "metadata": {},
   "outputs": [],
   "source": [
    "def golden_millers(N=None,dtype=None):\n",
    "    phi=np.zeros(N+1,dtype=dtype)\n",
    "    phi[N]=1.\n",
    "    phi[N-1]=1.\n",
    "    for i in np.arange(N-2,0,-1):\n",
    "        phi[i]=phi[i+1]+phi[i+2]\n",
    "    phi*=(np.sqrt(5,dtype=dtype)-1.)/2./phi[1]\n",
    "    phi=phi[2:]\n",
    "    return phi"
   ]
  },
  {
   "cell_type": "code",
   "execution_count": null,
   "metadata": {},
   "outputs": [],
   "source": [
    "def test_golden2(dtype=None):\n",
    "    Nmax=30\n",
    "    phi=golden_millers(N=Nmax,dtype=dtype)\n",
    "    phi0=golden_multiply(N=Nmax,dtype=np.float64)\n",
    "    N=np.arange(2,Nmax+1)\n",
    "    error=(phi-phi0)/phi0\n",
    "    return (N,error)"
   ]
  },
  {
   "cell_type": "markdown",
   "metadata": {},
   "source": [
    "Here are the results."
   ]
  },
  {
   "cell_type": "code",
   "execution_count": null,
   "metadata": {},
   "outputs": [],
   "source": [
    "(N32,error32)=test_golden2(dtype=np.float32)\n",
    "(N64,error64)=test_golden2(dtype=np.float64)"
   ]
  },
  {
   "cell_type": "code",
   "execution_count": null,
   "metadata": {},
   "outputs": [],
   "source": [
    "plt.plot(N64, np.log10(np.abs(error64)))\n",
    "plt.plot(N32, np.log10(np.abs(error32)))\n",
    "plt.ylabel('log$_{10}$ |$\\epsilon$ / F|')\n",
    "plt.xlabel('N')"
   ]
  },
  {
   "cell_type": "markdown",
   "metadata": {},
   "source": [
    "There is still a limit to Miller's theorem, in that you can't go lower than machine precision."
   ]
  },
  {
   "cell_type": "markdown",
   "metadata": {},
   "source": [
    "# Power Series Approximation"
   ]
  },
  {
   "cell_type": "markdown",
   "metadata": {},
   "source": [
    "Here we evaluate the power series for $\\cos x$, given by $$\\cos x=\\sum_{n=0}^\\infty \\frac{(-1)^nx^{2n}}{(2n)!}=1-\\frac{x^2}{2!}+\\frac{x^4}{4!}-\\frac{x^6}{6!}+...$$\n",
    "\n",
    "We compare summing directly with summing using the formula $$n^{\\rm th}\\,{\\rm term}=-\\frac{x^2}{(2n)(2n-1)}(n-1)^{\\rm th}\\,{\\rm term}$$\n",
    "\n",
    "We also choose the tolerance $10^{-8}$."
   ]
  },
  {
   "cell_type": "code",
   "execution_count": null,
   "metadata": {},
   "outputs": [],
   "source": [
    "def cos_direct(x=None,tol=None):\n",
    "    cos=np.float32(1.)\n",
    "    n=0\n",
    "    diff=100.\n",
    "    while diff > tol:\n",
    "        n+=1\n",
    "        newterm=(-1)**n*x**(2*n)/np.math.factorial(2*n)\n",
    "        diff=np.absolute(newterm/cos)\n",
    "        cos+=newterm\n",
    "    return (cos,n)"
   ]
  },
  {
   "cell_type": "code",
   "execution_count": null,
   "metadata": {},
   "outputs": [],
   "source": [
    "def cos_nrat(x=None,tol=None):\n",
    "    cos=np.float32(1.)\n",
    "    newterm=cos\n",
    "    n=0\n",
    "    diff=100.\n",
    "    while diff > tol:\n",
    "        n+=1\n",
    "        newterm*=-x**2/((2*n)*(2*n-1))\n",
    "        diff=np.absolute(newterm/cos)\n",
    "        cos+=newterm\n",
    "    return (cos,n)"
   ]
  },
  {
   "cell_type": "code",
   "execution_count": null,
   "metadata": {},
   "outputs": [],
   "source": [
    "def test_cos(func=None,x=None,tol=None):\n",
    "    cos,n=func(x=x,tol=tol)\n",
    "    cos0=np.cos(x,dtype=np.float64)\n",
    "    error=(cos-cos0)/cos0\n",
    "    return (error,n)"
   ]
  },
  {
   "cell_type": "markdown",
   "metadata": {},
   "source": [
    "$x=10$ gives the same error for both methods"
   ]
  },
  {
   "cell_type": "code",
   "execution_count": null,
   "metadata": {
    "scrolled": true
   },
   "outputs": [],
   "source": [
    "x=np.float32(10.)\n",
    "print(test_cos(cos_direct,x,tol=1.e-8))\n",
    "print(test_cos(cos_nrat,x,tol=1.e-8))"
   ]
  },
  {
   "cell_type": "markdown",
   "metadata": {},
   "source": [
    "while $x=20$ clearly does better using the method with the ratios."
   ]
  },
  {
   "cell_type": "code",
   "execution_count": null,
   "metadata": {},
   "outputs": [],
   "source": [
    "x=np.float32(20.)\n",
    "print(test_cos(cos_direct,x,tol=1.e-8))\n",
    "print(test_cos(cos_nrat,x,tol=1.e-8))"
   ]
  },
  {
   "cell_type": "code",
   "execution_count": null,
   "metadata": {},
   "outputs": [],
   "source": [
    "cos1=np.float32(1.)\n",
    "cos2=np.float32(1.)\n",
    "newterm1=1.\n",
    "newterm2=1.\n",
    "diff1=np.zeros(40)\n",
    "diff2=np.zeros(40)\n",
    "x=np.float32(20.)\n",
    "for n in np.arange(1,40):    \n",
    "        newterm1=(-1)**n*x**(2*n)/np.math.factorial(2*n)\n",
    "        newterm2*=-x**2/((2*n)*(2*n-1))\n",
    "        cos1+=newterm1\n",
    "        cos2+=newterm2\n",
    "        costrue=np.cos(x)\n",
    "        diff1[n]=np.absolute(cos1-costrue)/costrue\n",
    "        diff2[n]=np.absolute(cos2-costrue)/costrue"
   ]
  },
  {
   "cell_type": "code",
   "execution_count": null,
   "metadata": {},
   "outputs": [],
   "source": [
    "N=np.arange(40)\n",
    "plt.plot(N, np.log10(np.abs(diff1)))\n",
    "plt.plot(N, np.log10(np.abs(diff2)))\n",
    "plt.ylabel('log$_{10}$ |$\\epsilon$ / F|')\n",
    "plt.xlabel('N')"
   ]
  }
 ],
 "metadata": {
  "kernelspec": {
   "display_name": "Python 3",
   "language": "python",
   "name": "python3"
  },
  "language_info": {
   "codemirror_mode": {
    "name": "ipython",
    "version": 3
   },
   "file_extension": ".py",
   "mimetype": "text/x-python",
   "name": "python",
   "nbconvert_exporter": "python",
   "pygments_lexer": "ipython3",
   "version": "3.8.3"
  }
 },
 "nbformat": 4,
 "nbformat_minor": 2
}
