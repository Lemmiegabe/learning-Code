{
 "cells": [
  {
   "cell_type": "code",
   "execution_count": null,
   "metadata": {},
   "outputs": [],
   "source": [
    "import numpy as np"
   ]
  },
  {
   "cell_type": "markdown",
   "metadata": {},
   "source": [
    "# How to make an array in NumPy"
   ]
  },
  {
   "cell_type": "markdown",
   "metadata": {},
   "source": [
    "Make an array of zeros saved as 32-bit integers."
   ]
  },
  {
   "cell_type": "code",
   "execution_count": null,
   "metadata": {},
   "outputs": [],
   "source": [
    "c = np.zeros(100, dtype='int32')\n",
    "print(c)"
   ]
  },
  {
   "cell_type": "markdown",
   "metadata": {},
   "source": [
    "Find the number of elements."
   ]
  },
  {
   "cell_type": "code",
   "execution_count": null,
   "metadata": {},
   "outputs": [],
   "source": [
    "print(c.size)"
   ]
  },
  {
   "cell_type": "markdown",
   "metadata": {},
   "source": [
    "Find the number of bytes per element."
   ]
  },
  {
   "cell_type": "code",
   "execution_count": null,
   "metadata": {},
   "outputs": [],
   "source": [
    "print(c.itemsize)"
   ]
  },
  {
   "cell_type": "markdown",
   "metadata": {},
   "source": [
    "How many bytes per element is a 64-bit float?"
   ]
  },
  {
   "cell_type": "code",
   "execution_count": null,
   "metadata": {},
   "outputs": [],
   "source": [
    "d = np.zeros(100, dtype='float64')\n",
    "print(d.itemsize)"
   ]
  },
  {
   "cell_type": "markdown",
   "metadata": {},
   "source": [
    "Here we demonstrate some common NumPy operations.\n",
    "\n",
    "Here is an array of increasing 32-bit integers, increasing in 2's"
   ]
  },
  {
   "cell_type": "code",
   "execution_count": null,
   "metadata": {},
   "outputs": [],
   "source": [
    "f = np.arange(0,50,2, dtype='int32')\n",
    "print(f)"
   ]
  },
  {
   "cell_type": "markdown",
   "metadata": {},
   "source": [
    "Reference an element."
   ]
  },
  {
   "cell_type": "code",
   "execution_count": null,
   "metadata": {},
   "outputs": [],
   "source": [
    "print(f[22])"
   ]
  },
  {
   "cell_type": "markdown",
   "metadata": {},
   "source": [
    "Reference a range of elements."
   ]
  },
  {
   "cell_type": "code",
   "execution_count": null,
   "metadata": {},
   "outputs": [],
   "source": [
    "print(f[10:13])"
   ]
  },
  {
   "cell_type": "markdown",
   "metadata": {},
   "source": [
    "Here's a shortcut to printing the slice of an array from element 20 to the end."
   ]
  },
  {
   "cell_type": "code",
   "execution_count": null,
   "metadata": {},
   "outputs": [],
   "source": [
    "print(f[20:])"
   ]
  },
  {
   "cell_type": "markdown",
   "metadata": {},
   "source": [
    "Or to print every other element."
   ]
  },
  {
   "cell_type": "code",
   "execution_count": null,
   "metadata": {},
   "outputs": [],
   "source": [
    "print(f[15:22:2])"
   ]
  },
  {
   "cell_type": "markdown",
   "metadata": {},
   "source": [
    "Increment an array."
   ]
  },
  {
   "cell_type": "code",
   "execution_count": null,
   "metadata": {},
   "outputs": [],
   "source": [
    "print(f+1)"
   ]
  },
  {
   "cell_type": "code",
   "execution_count": null,
   "metadata": {},
   "outputs": [],
   "source": [
    "f+=2\n",
    "print(f)"
   ]
  },
  {
   "cell_type": "markdown",
   "metadata": {},
   "source": [
    "Print the sum."
   ]
  },
  {
   "cell_type": "code",
   "execution_count": null,
   "metadata": {},
   "outputs": [],
   "source": [
    "print(f.sum())"
   ]
  },
  {
   "cell_type": "markdown",
   "metadata": {},
   "source": [
    "Convert from integer to float and back"
   ]
  },
  {
   "cell_type": "code",
   "execution_count": null,
   "metadata": {},
   "outputs": [],
   "source": [
    "q=np.float32(f)\n",
    "r=np.int32(q)\n",
    "print(q)\n",
    "print(r)"
   ]
  },
  {
   "cell_type": "markdown",
   "metadata": {},
   "source": [
    "Operate on two arrays of the same size."
   ]
  },
  {
   "cell_type": "code",
   "execution_count": null,
   "metadata": {},
   "outputs": [],
   "source": [
    "g = np.arange(5,51,5, dtype='float32')\n",
    "h = np.ones(10,dtype='float32')*2\n",
    "l = np.ones(10,dtype='int32')*2\n",
    "m = np.ones(10,dtype='int32')*3"
   ]
  },
  {
   "cell_type": "code",
   "execution_count": null,
   "metadata": {},
   "outputs": [],
   "source": [
    "print(g)"
   ]
  },
  {
   "cell_type": "code",
   "execution_count": null,
   "metadata": {},
   "outputs": [],
   "source": [
    "print(h)"
   ]
  },
  {
   "cell_type": "code",
   "execution_count": null,
   "metadata": {},
   "outputs": [],
   "source": [
    "print(l)\n",
    "print(m)"
   ]
  },
  {
   "cell_type": "code",
   "execution_count": null,
   "metadata": {},
   "outputs": [],
   "source": [
    "print(g+h)"
   ]
  },
  {
   "cell_type": "code",
   "execution_count": null,
   "metadata": {},
   "outputs": [],
   "source": [
    "print(g*h)"
   ]
  },
  {
   "cell_type": "markdown",
   "metadata": {},
   "source": [
    "# Multidimensional Arrays"
   ]
  },
  {
   "cell_type": "markdown",
   "metadata": {},
   "source": [
    "Multidimensional arrays are created using a \"tuple\" with the desired dimensions.  Don't forget there are 2 parentheses!"
   ]
  },
  {
   "cell_type": "code",
   "execution_count": null,
   "metadata": {},
   "outputs": [],
   "source": [
    "a = np.ones((16,6), dtype='int32')"
   ]
  },
  {
   "cell_type": "markdown",
   "metadata": {},
   "source": [
    "Note that once I print the array, the 1st dimension visually corresponds to rows and the 2nd to columns."
   ]
  },
  {
   "cell_type": "code",
   "execution_count": null,
   "metadata": {},
   "outputs": [],
   "source": [
    "print(a)"
   ]
  },
  {
   "cell_type": "markdown",
   "metadata": {},
   "source": [
    "I can also flatten the array to 1 dimension."
   ]
  },
  {
   "cell_type": "code",
   "execution_count": null,
   "metadata": {},
   "outputs": [],
   "source": [
    "aflat = a.flatten()\n",
    "print(aflat)"
   ]
  },
  {
   "cell_type": "markdown",
   "metadata": {},
   "source": [
    "A flatten array writes the elements in the order they appear in memory.  A simple test to see how rows or columns are placed in memory, change a number and flatten the array."
   ]
  },
  {
   "cell_type": "code",
   "execution_count": null,
   "metadata": {},
   "outputs": [],
   "source": [
    "a[1,5]=3\n",
    "print(a)"
   ]
  },
  {
   "cell_type": "code",
   "execution_count": null,
   "metadata": {},
   "outputs": [],
   "source": [
    "print(a.flatten())"
   ]
  },
  {
   "cell_type": "markdown",
   "metadata": {},
   "source": [
    "Since the \"3\" showed up earlier rather than later in the array, the array must be ordered in rows and not columns."
   ]
  },
  {
   "cell_type": "markdown",
   "metadata": {},
   "source": [
    "## Broadcasting"
   ]
  },
  {
   "cell_type": "markdown",
   "metadata": {},
   "source": [
    "Each row in an mxn array can be multiplied by (1) a number or (2) an n-dimensional array (not an m-dimensional array)."
   ]
  },
  {
   "cell_type": "code",
   "execution_count": null,
   "metadata": {},
   "outputs": [],
   "source": [
    "b=np.ones((2,4))\n",
    "c=np.arange(2)\n",
    "d=np.arange(4)"
   ]
  },
  {
   "cell_type": "code",
   "execution_count": null,
   "metadata": {},
   "outputs": [],
   "source": [
    "print(b)"
   ]
  },
  {
   "cell_type": "code",
   "execution_count": null,
   "metadata": {},
   "outputs": [],
   "source": [
    "print(c)"
   ]
  },
  {
   "cell_type": "code",
   "execution_count": null,
   "metadata": {},
   "outputs": [],
   "source": [
    "print(d)"
   ]
  },
  {
   "cell_type": "code",
   "execution_count": null,
   "metadata": {},
   "outputs": [],
   "source": [
    "print(b*7)"
   ]
  },
  {
   "cell_type": "code",
   "execution_count": null,
   "metadata": {},
   "outputs": [],
   "source": [
    "print(b*d)"
   ]
  },
  {
   "cell_type": "code",
   "execution_count": null,
   "metadata": {},
   "outputs": [],
   "source": [
    "print(b*c)"
   ]
  },
  {
   "cell_type": "markdown",
   "metadata": {},
   "source": [
    "I can also do matrix multiplication using the dot function."
   ]
  },
  {
   "cell_type": "code",
   "execution_count": null,
   "metadata": {},
   "outputs": [],
   "source": [
    "print(b.dot(d))"
   ]
  },
  {
   "cell_type": "code",
   "execution_count": null,
   "metadata": {
    "scrolled": false
   },
   "outputs": [],
   "source": [
    "print(c.dot(b))"
   ]
  },
  {
   "cell_type": "markdown",
   "metadata": {},
   "source": [
    "# Everything is an Object"
   ]
  },
  {
   "cell_type": "markdown",
   "metadata": {},
   "source": [
    "Python being an \"object-oriented\" language means that all variables and functions in Python are \"objects.\"  An object in this case means that it carries information about itself.\n",
    "\n",
    "A \"class\" is a type of object that defines the structure of other objects.  For example, \"int\" class turns number into an integer saved as a variable.  The variable is then an object.\n",
    "\n",
    "Objects have\n",
    "- Attributes: values that can be set\n",
    "- Methods: functions that can be run"
   ]
  },
  {
   "cell_type": "code",
   "execution_count": null,
   "metadata": {},
   "outputs": [],
   "source": [
    "help(\"int\")"
   ]
  },
  {
   "cell_type": "markdown",
   "metadata": {},
   "source": [
    "You can define a simple class:"
   ]
  },
  {
   "cell_type": "code",
   "execution_count": null,
   "metadata": {},
   "outputs": [],
   "source": [
    "import datetime # to get current year\n",
    "\n",
    "class House(object): # object is the generic superclass\n",
    "    \"\"\"\n",
    "    Attributes:\n",
    "    -----------\n",
    "    \n",
    "    state : str\n",
    "        State house is located\n",
    "    city : str\n",
    "        City house is located\n",
    "    street : str\n",
    "        Street house is located\n",
    "    number : int\n",
    "        number (on street) house is located\n",
    "    zipcode: int\n",
    "        zip code of house\n",
    "    beds : int\n",
    "        number of bedrooms\n",
    "    baths : int\n",
    "        number of bathrooms\n",
    "    builtyear : int\n",
    "        Year house was built\n",
    "    \n",
    "    Methods:\n",
    "    --------\n",
    "    \n",
    "    address()\n",
    "        Print full address of house\n",
    "    rooms()\n",
    "        Print the number of bedrooms, bathrooms, and the total number of rooms\n",
    "    age()\n",
    "        Compute age of house\n",
    "    construct()\n",
    "        Add a room type to house\n",
    "    value()\n",
    "        Compute and print value of house in dollars\n",
    "        \n",
    "    Note: This section highlighted in red is a \"docstring\".  It's like a glorified commented section.  There are various\n",
    "    programs that take these and make documentation webpages.  Like a comment, anything written in a docstring does not\n",
    "    affect the code execution.\n",
    "    \"\"\"\n",
    "    \n",
    "    def __init__(self, state=None, city=None, street=None, number=None, zipcode=None, beds=None, baths=None, builtyear=None):\n",
    "        # \"self\" is the object itself, and it is passed as the first argument\n",
    "        self._initialize(state=state, city=city, street=street, number=number, zipcode=zipcode, beds=beds, baths=baths, builtyear=builtyear)\n",
    "        # by convention, \"_\" denotes an attribute or method that should not be used outside the \n",
    "        # the class definition (for example, its nature may change in future versions)\n",
    "        return\n",
    "    def _initialize(self, state=None, city=None, street=None, number=None, zipcode=None, beds=None, baths=None, builtyear=None):\n",
    "        self.state=str(state)\n",
    "        self.city=str(city)\n",
    "        self.street=str(street)\n",
    "        self.number=np.int16(number)\n",
    "        self.zipcode=np.int32(zipcode)\n",
    "        self.beds=np.int16(beds)\n",
    "        self.baths=np.int16(baths)\n",
    "        self.builtyear=np.int16(builtyear)\n",
    "        return\n",
    "    \n",
    "    def address(self):\n",
    "        print('This house is located at',self.number,self.street,',',self.city,',',self.state,self.zipcode)\n",
    "        return\n",
    "    \n",
    "    def rooms(self):\n",
    "        print('This house has',self.beds,'bedrooms and',self.baths,'bathrooms')\n",
    "    \n",
    "    def age(self):\n",
    "        currentyear=datetime.datetime.now().year\n",
    "        return currentyear-self.builtyear\n",
    "    \n",
    "    def construct(self, addbeds=0, addbaths=0):\n",
    "        self.beds+=addbeds\n",
    "        self.baths+=addbaths\n",
    "        return\n",
    "    \n",
    "    def value(self):\n",
    "        if (self.state=='NY')+(self.state=='CA')+(self.state=='VA'):\n",
    "            val=200000\n",
    "        else:\n",
    "            val=40000\n",
    "        val+=30000*self.baths+10000*self.beds\n",
    "        agehouse=House.age(self)\n",
    "        val*=1.04**agehouse # average rate of return on a house is 4%\n",
    "        val=np.int(val)\n",
    "        print('This house is worth $',str(val))"
   ]
  },
  {
   "cell_type": "code",
   "execution_count": null,
   "metadata": {},
   "outputs": [],
   "source": [
    "house1 = House(state='NY',city='New York City',street='8th St.',number='4523',zipcode=10016,beds=2,baths=1,builtyear=1923)\n",
    "house2 = House(state='AK',city='Little Rock',street='Main St.',number='58',zipcode=72209,beds=6,baths=4,builtyear=2003)\n",
    "\n",
    "house1.address()\n",
    "house1.rooms()\n",
    "house1.value()\n",
    "print('')\n",
    "\n",
    "house2.address()\n",
    "house2.rooms()\n",
    "house2.value()"
   ]
  },
  {
   "cell_type": "markdown",
   "metadata": {},
   "source": [
    "I can also add a room"
   ]
  },
  {
   "cell_type": "code",
   "execution_count": null,
   "metadata": {},
   "outputs": [],
   "source": [
    "house2.construct(addbaths=1)\n",
    "house2.rooms()\n",
    "house2.value()"
   ]
  },
  {
   "cell_type": "markdown",
   "metadata": {},
   "source": [
    "You probably won't often have to write your own classes; it's certainly not required except for one problem in this week's homework. But you will encounter them in Python codes and it's good to have some experience with them."
   ]
  }
 ],
 "metadata": {
  "anaconda-cloud": {},
  "kernelspec": {
   "display_name": "Python 3",
   "language": "python",
   "name": "python3"
  },
  "language_info": {
   "codemirror_mode": {
    "name": "ipython",
    "version": 3
   },
   "file_extension": ".py",
   "mimetype": "text/x-python",
   "name": "python",
   "nbconvert_exporter": "python",
   "pygments_lexer": "ipython3",
   "version": "3.8.3"
  }
 },
 "nbformat": 4,
 "nbformat_minor": 1
}
